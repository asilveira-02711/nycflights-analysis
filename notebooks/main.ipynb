{
  "nbformat": 4,
  "nbformat_minor": 0,
  "metadata": {
    "colab": {
      "provenance": []
    },
    "kernelspec": {
      "name": "python3",
      "display_name": "Python 3"
    },
    "language_info": {
      "name": "python"
    }
  },
  "cells": [
    {
      "cell_type": "code",
      "execution_count": 13,
      "metadata": {
        "id": "uRAGZmbDwnkO"
      },
      "outputs": [],
      "source": [
        "import pandas as pd\n",
        "import datetime\n",
        "import numpy as np\n",
        "import re\n",
        "import logging\n",
        "import importlib\n",
        "import data_clean"
      ]
    },
    {
      "cell_type": "code",
      "source": [
        "importlib.reload(data_clean)"
      ],
      "metadata": {
        "colab": {
          "base_uri": "https://localhost:8080/"
        },
        "id": "hR2IANTlxtXc",
        "outputId": "96e2ebab-4ae6-466d-8c57-ff9054048bec"
      },
      "execution_count": 14,
      "outputs": [
        {
          "output_type": "execute_result",
          "data": {
            "text/plain": [
              "<module 'data_clean' from '/content/data_clean.py'>"
            ]
          },
          "metadata": {},
          "execution_count": 14
        }
      ]
    },
    {
      "cell_type": "code",
      "source": [
        "df = pd.read_csv(\n",
        "    \"https://raw.githubusercontent.com/JackyP/testing/master/datasets/nycflights.csv\",\n",
        "    index_col=0\n",
        "    )"
      ],
      "metadata": {
        "id": "obTBkrr5xH64"
      },
      "execution_count": 15,
      "outputs": []
    },
    {
      "cell_type": "code",
      "source": [
        "df_raw = data_clean.remove_colunas(df)"
      ],
      "metadata": {
        "id": "fiSHMkG9xLVZ"
      },
      "execution_count": 18,
      "outputs": []
    },
    {
      "cell_type": "code",
      "source": [
        "df_raw = data_clean.rename_colunas(df_raw)"
      ],
      "metadata": {
        "id": "QOah-2G7xNre"
      },
      "execution_count": 19,
      "outputs": []
    },
    {
      "cell_type": "code",
      "source": [
        "df_raw = data_clean.def_type_str(df_raw, [\"id_voo\"])"
      ],
      "metadata": {
        "id": "aHSAbo6V3QHH"
      },
      "execution_count": 20,
      "outputs": []
    },
    {
      "cell_type": "code",
      "source": [
        "df_raw_clean = data_clean.ajusta_campo(df_raw, [\"companhia\", \"id_voo\", \"origem\", \"destino\"])"
      ],
      "metadata": {
        "id": "EIvgpOY7xOV4"
      },
      "execution_count": 22,
      "outputs": []
    },
    {
      "cell_type": "code",
      "source": [
        "!pip freeze > requirements.txt"
      ],
      "metadata": {
        "id": "JqnvXo4M5V6b"
      },
      "execution_count": 23,
      "outputs": []
    }
  ]
}